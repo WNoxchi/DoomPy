{
 "cells": [
  {
   "cell_type": "code",
   "execution_count": 2,
   "metadata": {
    "collapsed": true
   },
   "outputs": [],
   "source": [
    "import numpy as np; import cv2; from PIL import ImageGrab"
   ]
  },
  {
   "cell_type": "code",
   "execution_count": 5,
   "metadata": {},
   "outputs": [],
   "source": [
    "printscreen_pil = ImageGrab.grab()\n",
    "# printscreen_np  = np.array(printscreen_pil.getdata(), dtype='uint8').reshape(\n",
    "#                         (printscreen_pil.shape[1], printscreen_pil.shape[0], 3))\n",
    "# cv2.imshow('window', printscreen_np)\n",
    "\n",
    "printscreen_np = np.array(printscreen_pil.getdata(), dtype='uint8')"
   ]
  },
  {
   "cell_type": "code",
   "execution_count": 6,
   "metadata": {},
   "outputs": [
    {
     "data": {
      "text/plain": [
       "(2560, 1600)"
      ]
     },
     "execution_count": 6,
     "metadata": {},
     "output_type": "execute_result"
    }
   ],
   "source": [
    "printscreen_pil.size"
   ]
  },
  {
   "cell_type": "code",
   "execution_count": 7,
   "metadata": {},
   "outputs": [
    {
     "data": {
      "text/plain": [
       "16384000"
      ]
     },
     "execution_count": 7,
     "metadata": {},
     "output_type": "execute_result"
    }
   ],
   "source": [
    "printscreen_np.size"
   ]
  },
  {
   "cell_type": "code",
   "execution_count": 13,
   "metadata": {},
   "outputs": [
    {
     "data": {
      "text/plain": [
       "array([[[203, 203, 203, 255],\n",
       "        [203, 203, 203, 255],\n",
       "        [203, 203, 203, 255],\n",
       "        ..., \n",
       "        [202, 208, 211, 255],\n",
       "        [202, 208, 211, 255],\n",
       "        [202, 208, 211, 255]],\n",
       "\n",
       "       [[203, 203, 203, 255],\n",
       "        [203, 203, 203, 255],\n",
       "        [203, 203, 203, 255],\n",
       "        ..., \n",
       "        [202, 208, 211, 255],\n",
       "        [202, 208, 211, 255],\n",
       "        [202, 208, 211, 255]],\n",
       "\n",
       "       [[203, 203, 203, 255],\n",
       "        [203, 203, 203, 255],\n",
       "        [203, 203, 203, 255],\n",
       "        ..., \n",
       "        [202, 208, 211, 255],\n",
       "        [202, 208, 211, 255],\n",
       "        [202, 208, 211, 255]],\n",
       "\n",
       "       ..., \n",
       "       [[ 12,  12,  19, 255],\n",
       "        [ 12,  12,  19, 255],\n",
       "        [ 11,  12,  18, 255],\n",
       "        ..., \n",
       "        [  7,  12,  24, 255],\n",
       "        [  7,  12,  25, 255],\n",
       "        [  8,  15,  28, 255]],\n",
       "\n",
       "       [[ 12,  12,  19, 255],\n",
       "        [ 12,  12,  19, 255],\n",
       "        [ 11,  11,  18, 255],\n",
       "        ..., \n",
       "        [  7,  13,  26, 255],\n",
       "        [  8,  13,  27, 255],\n",
       "        [  9,  15,  29, 255]],\n",
       "\n",
       "       [[ 12,  12,  19, 255],\n",
       "        [ 12,  12,  19, 255],\n",
       "        [ 11,  11,  18, 255],\n",
       "        ..., \n",
       "        [ 11,  18,  31, 255],\n",
       "        [ 11,  17,  31, 255],\n",
       "        [  8,  14,  28, 255]]], dtype=uint8)"
      ]
     },
     "execution_count": 13,
     "metadata": {},
     "output_type": "execute_result"
    }
   ],
   "source": [
    "printscreen_np.reshape(printscreen_pil.size[1], printscreen_pil.size[0], 4)"
   ]
  },
  {
   "cell_type": "code",
   "execution_count": null,
   "metadata": {
    "collapsed": true
   },
   "outputs": [],
   "source": []
  }
 ],
 "metadata": {
  "kernelspec": {
   "display_name": "FAI",
   "language": "python",
   "name": "fai"
  },
  "language_info": {
   "codemirror_mode": {
    "name": "ipython",
    "version": 3
   },
   "file_extension": ".py",
   "mimetype": "text/x-python",
   "name": "python",
   "nbconvert_exporter": "python",
   "pygments_lexer": "ipython3",
   "version": "3.6.1"
  }
 },
 "nbformat": 4,
 "nbformat_minor": 2
}
